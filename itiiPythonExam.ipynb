{
 "cells": [
  {
   "cell_type": "markdown",
   "metadata": {},
   "source": [
    "# Devoir Python\n",
    "\n",
    "Vous devez rendre votre devoir sur GitHub.\n",
    "Vous avez le droit a tout vos documents et a internet\n",
    "\n",
    "1. votre depot doit etre privé\n",
    "2. vous devez inviter comme colaborateur votre chargé de TD/TP\n",
    "3. Seul le dernier commit avant la fin de la séance sera corrigé.\n"
   ]
  },
  {
   "cell_type": "markdown",
   "metadata": {},
   "source": [
    "Ex 1: Integrale de Romberg\n",
    "\n",
    "Ecrire une fonction integ_romberg(f, a, b, epsilon=1e-6) permettant de calculer l’intégrale numérique de la fonction f entre les bornes a et b avec une précision epsilon selon la méthode de Romberg (https://fr.wikipedia.org/wiki/M%C3%A9thode_de_Romberg).\n",
    "\n",
    "Il s’agit d’une méthode qui permet d’améliorer les méthodes usuelles de calcul numérique des intégrales, comme la méthode des Trapèzes.\n",
    "On montre qu’en combinant judicieusement les valeurs obtenues par la méthode des Trapèzes pour différentes subdivisons de l’intervalle d’intégration, on augmente l’ordre de convergence (sa vitesse de convergence). \n"
   ]
  },
  {
   "cell_type": "code",
   "execution_count": 40,
   "metadata": {},
   "outputs": [
    {
     "name": "stdout",
     "output_type": "stream",
     "text": [
      "0.19999999999999996 8 1\n"
     ]
    },
    {
     "data": {
      "text/plain": [
       "(0.19999999999999996, 8, 1)"
      ]
     },
     "execution_count": 40,
     "metadata": {},
     "output_type": "execute_result"
    }
   ],
   "source": [
    "# Exercice 1\n",
    "import numpy as np\n",
    "import matplotlib.pyplot as plt\n",
    "\n",
    "def f1(x):\n",
    "   f1 = x**4.0\n",
    "   return f1;\n",
    "\n",
    "def f2(x):\n",
    "   f2 = np.exp(-x*x)\n",
    "   return f2;\n",
    "\n",
    "def f3(x):\n",
    "   tau   = 1.0e-8\n",
    "   f3    = np.where(np.abs(x)<tau,1.0,np.sin(x)/x)\n",
    "   return f3;\n",
    "\n",
    "\n",
    "def trapezoid(f,a,b,N):\n",
    "    h   = (b-a)/N\n",
    "    xi  = np.linspace(a,b,N+1)\n",
    "    fi  = f(xi)\n",
    "    s   = 0.0\n",
    "    for i in range(1,N):\n",
    "        s = s + fi[i]\n",
    "    s = (h/2)*(fi[0] + fi[N]) + h*s\n",
    "    return s\n",
    "\n",
    "\n",
    "def romberg(f,a,b,eps,nmax):\n",
    "\n",
    "    Q         = np.zeros((nmax,nmax),float)\n",
    "    converged = 0\n",
    "    for i in range(0,nmax):\n",
    "        N      = 2**i\n",
    "        Q[i,0] = trapezoid(f,a,b,N)\n",
    "        for k in range(0,i):\n",
    "            n        = k + 2\n",
    "            Q[i,k+1] = 1.0/(4**(n-1)-1)*(4**(n-1)*Q[i,k] - Q[i-1,k])\n",
    "        if (i > 0):\n",
    "            if (abs(Q[i,k+1] - Q[i,k]) < eps):\n",
    "               converged = 1\n",
    "               break\n",
    "    print (Q[i,k+1],N,converged) \n",
    "    return Q[i,k+1],N,converged\n",
    "\n",
    "\n",
    "a  = 0.0;b = 1.0  \n",
    "romberg(f1,a,b,1.0e-12,10)\n"
   ]
  },
  {
   "cell_type": "markdown",
   "metadata": {},
   "source": [
    "Ex 2: Équation d’état de l’eau à partir de la dynamique moléculaire\n",
    "\n",
    "Afin de modéliser les planètes de type Jupiter, Saturne, ou même des exo-planètes très massives (dites « super-Jupiters »), la connaissance de l’équation d’état des composants est nécessaire. Ces équations d’état doivent être valables jusqu’à plusieurs centaines de méga-bar ; autrement dit, celles-ci ne sont en aucun cas accessibles expérimentalement. On peut cependant obtenir une équation d’état numériquement à partir d’une dynamique moléculaire.\n",
    "\n",
    "Le principe est le suivant : on place dans une boite un certain nombre de particules régies par les équations microscopiques (Newton par exemple, ou même par des équations prenant en considération la mécanique quantique) puis on laisse celles-ci évoluer dans la boite ; on calcule à chaque pas de temps l’énergie interne à partir des intéractions électrostatiques et la pression à partir du tenseur des contraintes. On obtient en sortie l’évolution du système pour une densité fixée (par le choix de taille de la boite) et une température fixée (par un algorithme de thermostat que nous ne détaillerons pas ici).\n",
    "\n",
    "On se propose d’analyser quelques fichiers de sortie de tels calculs pour l’équation d’état de l’eau à très haute pression. Les fichiers de sortie sont disponibles ici; leur nom indique les conditions thermodynamiques correspondant au fichier, p.ex. 6000K_30gcc.out pour T=6000\n",
    "K et ρ=30 gcc. Le but est, pour chaque condition température-densité, d’extraire l’évolution de l’énergie et de la pression au cours du temps, puis d’en extraire la valeur moyenne ainsi que les fluctuations. Il arrive souvent que l’état initial choisi pour le système ne corresponde pas à son état d’équilibre, et qu’il faille donc « jeter » les quelques pas de temps en début de simulation qui correspondent à cette relaxation du système. Pour savoir combien de temps prend cette relaxation, il sera utile de tracer l’évolution au cours du temps de la pression et l’énergie pour quelques simulations. Une fois l’équation d’état P(ρ,T) et E(ρ,T) extraite, on pourra tracer le réseau d’isothermes."
   ]
  },
  {
   "cell_type": "code",
   "execution_count": 39,
   "metadata": {},
   "outputs": [
    {
     "data": {
      "image/png": "[encoded data removed]",
      "text/plain": [
       "<Figure size 432x288 with 2 Axes>"
      ]
     },
     "metadata": {
      "needs_background": "light"
     },
     "output_type": "display_data"
    }
   ],
   "source": [
    "# Exercice 2\n",
    "import numpy as N\n",
    "import matplotlib.pyplot as P\n",
    "\n",
    "import pytest                    \n",
    "\n",
    "\n",
    "class Simulation:\n",
    "\n",
    "    def __init__(self, temp, dens, path):\n",
    "        self.temp = float(temp)\n",
    "        self.dens = float(dens)\n",
    "        tmp = N.loadtxt(path, skiprows=1).T\n",
    "        self.pot = tmp[0]\n",
    "        self.kin = tmp[1]\n",
    "        self.tot = self.pot + self.kin\n",
    "        self.press = tmp[2]\n",
    "\n",
    "    def __str__(self):\n",
    "        return \"Simulation at {:.0f} g/cc and {:.0f} K ; {:d} timesteps\". \\\n",
    "            format(self.dens, self.temp, len(self.pot))\n",
    "\n",
    "    def thermo(self, skipSteps=0):\n",
    "        return {'T': self.temp,\n",
    "                'rho': self.dens,\n",
    "                'E': self.tot[skipSteps:].mean(),\n",
    "                'P': self.press[skipSteps:].mean(),\n",
    "                'dE': self.tot[skipSteps:].std(),\n",
    "                'dP': self.press[skipSteps:].std()}\n",
    "\n",
    "    def plot(self, skipSteps=0):\n",
    "        fig, (axen, axpress) = P.subplots(2, sharex=True)\n",
    "        axen.plot(list(range(skipSteps, len(self.tot))), self.tot[skipSteps:],\n",
    "                  'rd--')\n",
    "        axen.set_title(\"Internal energy (Ha)\")\n",
    "        axpress.plot(list(range(skipSteps, len(self.press))), self.press[skipSteps:],\n",
    "                     'rd--')\n",
    "        axpress.set_title(\"Pressure (GPa)\")\n",
    "        axpress.set_xlabel(\"Timesteps\")\n",
    "\n",
    "        P.show()\n",
    "\n",
    "\n",
    "\n",
    "\n",
    "def mimic_simulation(filename):\n",
    "    with open(filename, 'w') as f:\n",
    "        f.write(\"\"\"Potential energy (Ha)\tKinetic Energy (Ha)\tPressure (GPa)\n",
    "-668.2463567264        \t0.7755612311   \t\t9287.7370229824\n",
    "-668.2118514558        \t0.7755612311\t\t9286.1395903265\n",
    "-668.3119088218        \t0.7755612311\t\t9247.6604398856\n",
    "-668.4762735176        \t0.7755612311\t\t9191.8574820856\n",
    "-668.4762735176        \t0.7755612311\t\t9191.8574820856\n",
    "\"\"\")\n",
    "\n",
    "\n",
    "def test_Simulation_init():\n",
    "    mimic_simulation(\"equationEtat_simuTest.out\")\n",
    "    s = Simulation(10, 10, \"equationEtat_simuTest.out\")\n",
    "    assert len(s.kin) == 5\n",
    "    assert abs(s.kin[2] - 0.7755612311) < tolerance\n",
    "    assert abs(s.pot[1] + 668.2118514558) < tolerance\n",
    "\n",
    "\n",
    "def test_Simulation_str():\n",
    "    mimic_simulation(\"equationEtat_simuTest.out\")\n",
    "    s = Simulation(10, 20, \"equationEtat_simuTest.out\")\n",
    "    assert str(s) == \"Simulation at 20 g/cc and 10 K ; 5 timesteps\"\n",
    "\n",
    "\n",
    "def test_Simulation_thermo():\n",
    "    mimic_simulation(\"equationEtat_simuTest.out\")\n",
    "    s = Simulation(10, 20, \"equationEtat_simuTest.out\")\n",
    "    assert abs(s.thermo()['T'] - 10) < tolerance\n",
    "    assert abs(s.thermo()['rho'] - 20) < tolerance\n",
    "    assert abs(s.thermo()['E'] + 667.56897157674) < tolerance\n",
    "    assert abs(s.thermo()['P'] - 9241.0504034731) < tolerance\n",
    "    assert abs(s.thermo(3)['E'] + 667.7007122865) < tolerance\n",
    "    assert abs(s.thermo(3)['P'] - 9191.8574820856) < tolerance\n",
    "\n",
    "\n",
    "\n",
    "if __name__ == '__main__':\n",
    "    \n",
    "    a0 = 0.52918     \n",
    "    amu = 1.6605      \n",
    "    k_B = 3.16681e-6  \n",
    "    \n",
    "    nk_GPa = a0 ** 3 * k_B * 2.942e4 / 6 / amu\n",
    "    nsteps = 200  \n",
    "    temps = [6000, 20000, 50000]    \n",
    "    colors = {6000: 'r', 20000: 'b', 50000: 'k'}\n",
    "    denss = [7, 15, 25, 30]  \n",
    "    keys = ['T', 'rho', 'E', 'dE', 'P', 'dP']\n",
    "    eos = dict.fromkeys(keys, N.zeros(0))   \n",
    "\n",
    "    \n",
    "    for t, rho in [(t, rho) for t in temps for rho in denss]:\n",
    "        filenm = \"outputs/{}K_{:0>2d}gcc.out\".format(t, rho)\n",
    "        s = Simulation(t, rho, filenm)\n",
    "        for key in keys:\n",
    "            eos[key] = N.append(eos[key], s.thermo(nsteps)[key])\n",
    "\n",
    "    \n",
    "    fig, (axen, axpress) = P.subplots(2, sharex=True)\n",
    "    fig.suptitle(\"High-pressure equation of state for water\", size='x-large')\n",
    "    axen.set_title(\"Energy\")\n",
    "    axen.set_ylabel(\"U / NkT\")\n",
    "    axpress.set_title(\"Pressure\")\n",
    "    axpress.set_ylabel(\"P / nkT\")\n",
    "    axpress.set_xlabel(\"rho (g/cc)\")\n",
    "    for t in temps:\n",
    "        sel = eos['T'] == t\n",
    "        axen.errorbar(x=eos['rho'][sel], y=eos['E'][sel] / k_B / t,\n",
    "                      yerr=eos['dE'][sel] / k_B / t, fmt=colors[t] + '-')\n",
    "        axpress.errorbar(x=eos['rho'][sel],\n",
    "                         y=eos['P'][sel] / eos['rho'][sel] / nk_GPa / t,\n",
    "                         yerr=eos['dP'][sel] / eos['rho'][sel] / nk_GPa / t,\n",
    "                         fmt=colors[t] + '-',\n",
    "                         label=\"{} K\".format(t))\n",
    "    axpress.legend(loc='best')\n",
    "    P.show()\n"
   ]
  },
  {
   "cell_type": "markdown",
   "metadata": {},
   "source": [
    "Ex 3: Le problème du voyageur de commerce\n",
    "\n",
    "Le problème du voyageur de commerce est un problème d’optimisation consistant à déterminer le plus court chemin reliant un ensemble de destinations. Il n’existe pas d’algorithme donnant la solution optimale en un temps raisonnable (problème NP-complet), mais l’on peut chercher à déterminer des solutions approchées. On va se placer ici dans le cas d’un livreur devant desservir une seule fois chacune desndestinations d’une ville américaine où les rues sont agencées en réseau carré. \n",
    "\n",
    "On utilise la « distance deManhattan »  entre deux points 𝐴(𝑥𝐴,𝑦𝐴) et 𝐵(𝑥𝐵,𝑦𝐵) : 𝑑(𝐴,𝐵) =|𝑥𝐵−𝑥𝐴|+|𝑦𝐵−𝑦𝐴|.\n",
    "\n",
    "En outre, on se place dans le cas où les coordonnées des destinations sont entières, comprises entre 0 (inclus) et TAILLE = 50 (exclus). Deux destinations peuvent éventuellement avoir les mêmes coordonnées. Les instructions suivantes doivent permettre de définir les classes nécessaires (Ville et Trajet) et de développer un algorithme approché (heuristiques) : l’algorithme du plus proche voisin. \n",
    "\n",
    "Seules la librairie standard et la librairie numpy sont utilisables si nécessaire. Implementer les classes et methodes suivante:\n",
    "\n",
    "\n",
    "Classe Ville:\n",
    "* __init__(): initialisation d’une ville sans destination.\n",
    "* aleatoire(n): création de n destinations aléatoires.\n",
    "* nb_trajet(): retourne le nombre total (entier) de trajets :(𝑛−1)!/2(utilisermath.factorial()).\n",
    "* distance(i, j): retourne la distance (Manhattan) entre les deux destinations de numéro i et j\n",
    "\n",
    "\n",
    "Classe Trajet:\n",
    "* __init__(ville, etapes=None): initialisation sur une ville. Si la liste etapes n’est pas spécifiée, le trajet par défaut est celui suivant les destinations de ville.\n",
    "* longueur(): retourne la longueur totale du trajetbouclé(i.e. revenant à son point de départ).\n",
    "\n",
    "\n",
    "Plus proche voisin:\n",
    "* Ville.plus_proche(i, exclus=[]): retourne la destination la plus proche de la destinationi(au sens de Ville.distance()), hors les destinations de la liste exclus\n",
    "* Ville.trajet_voisins(depart=0): retourne un Trajet déterminé selon l’heuristique des plus proches voisins (i.e. l’étape suivante est la destination la plus proche hors les destinations déjà visitées) en partant de l’étape initiale depart\n",
    "\n",
    "Optimisation:\n",
    "* Proposer un algorithme qui propose une meilleur alternative au \"plus proche voisin\".\n",
    "\n",
    "Interface:\n",
    "* Ville.figure(trajet=None): Afficher le plande la ville et le trajet obtenue (utiliser matplotlib.step()pour des trajets de type « Manhattan »)"
   ]
  },
  {
   "cell_type": "code",
   "execution_count": 29,
   "metadata": {},
   "outputs": [
    {
     "data": {
      "text/plain": [
       "[<matplotlib.lines.Line2D at 0x29793867e08>]"
      ]
     },
     "execution_count": 29,
     "metadata": {},
     "output_type": "execute_result"
    },
    {
     "data": {
      "image/png": "[encoded data removed]",
      "text/plain": [
       "<Figure size 432x288 with 1 Axes>"
      ]
     },
     "metadata": {
      "needs_background": "light"
     },
     "output_type": "display_data"
    }
   ],
   "source": [
    "# Exercice3\n",
    "import random\n",
    "n = 30\n",
    "x = [ random.random() for _ in range(n) ]\n",
    "y = [ random.random() for _ in range(n) ]\n",
    "import matplotlib.pyplot as plt\n",
    "plt.plot(x,y,\"o\")"
   ]
  },
  {
   "cell_type": "code",
   "execution_count": 30,
   "metadata": {},
   "outputs": [
    {
     "name": "stdout",
     "output_type": "stream",
     "text": [
      "longueur initiale 8.174223827590712\n",
      "iteration 2 d= 8.174223827590712\n",
      "iteration 3 d= 1.3196201619363088\n",
      "iteration 4 d= 1.116478890242234\n",
      "iteration 5 d= 1.0761531680623646\n",
      "iteration 6 d= 1.0682800969312676\n",
      "longueur min 1.0682800969312676\n"
     ]
    },
    {
     "data": {
      "text/plain": [
       "[<matplotlib.lines.Line2D at 0x29791346248>]"
      ]
     },
     "execution_count": 30,
     "metadata": {},
     "output_type": "execute_result"
    },
    {
     "data": {
      "image/png": "[encoded data removed]",
      "text/plain": [
       "<Figure size 432x288 with 1 Axes>"
      ]
     },
     "metadata": {
      "needs_background": "light"
     },
     "output_type": "display_data"
    }
   ],
   "source": [
    "def longueur (x,y, ordre):\n",
    "    i = ordre[-1]\n",
    "    x0,y0 = x[i], y[i]\n",
    "    d = 0\n",
    "    for o in ordre:\n",
    "        x1,y1 = x[o], y[o]\n",
    "        d += (x0-x1)**2 + (y0-y1)**2\n",
    "        x0,y0 = x1,y1\n",
    "    return d\n",
    "\n",
    "ordre = list(range(len(x)))\n",
    "print(\"longueur initiale\", longueur(x,y,ordre))\n",
    "\n",
    "def permutation(x,y,ordre):\n",
    "    d  = longueur(x,y,ordre)\n",
    "    d0 = d+1\n",
    "    it = 1\n",
    "    while d < d0 :\n",
    "        it += 1\n",
    "        print(\"iteration\",it, \"d=\",d)\n",
    "        d0 = d\n",
    "        for i in range(0,len(ordre)-1) :\n",
    "            for j in range(i+2,len(ordre)):\n",
    "                r = ordre[i:j].copy()\n",
    "                r.reverse()\n",
    "                ordre2 = ordre[:i] + r + ordre[j:]\n",
    "                t = longueur(x,y,ordre2)\n",
    "                if t < d :\n",
    "                    d = t\n",
    "                    ordre = ordre2\n",
    "    return ordre\n",
    "\n",
    "ordre = permutation (x,y,list(range(len(x))))\n",
    "print(\"longueur min\", longueur(x,y,ordre))\n",
    "xo = [ x[o] for o in ordre + [ordre[0]]]\n",
    "yo = [ y[o] for o in ordre + [ordre[0]]]\n",
    "plt.plot(xo,yo, \"o-\")"
   ]
  },
  {
   "cell_type": "code",
   "execution_count": 31,
   "metadata": {},
   "outputs": [
    {
     "name": "stdout",
     "output_type": "stream",
     "text": [
      "longueur initiale 7.880100561055275\n",
      "iteration 2 d= 7.880100561055275\n",
      "iteration 3 d= 1.4008509046298885\n",
      "iteration 4 d= 0.7946645528298208\n",
      "iteration 5 d= 0.7901196622121001\n",
      "longueur min 0.7901196622121001\n"
     ]
    },
    {
     "data": {
      "text/plain": [
       "[<matplotlib.lines.Line2D at 0x297937ed308>]"
      ]
     },
     "execution_count": 31,
     "metadata": {},
     "output_type": "execute_result"
    },
    {
     "data": {
      "image/png": "[encoded data removed]",
      "text/plain": [
       "<Figure size 432x288 with 1 Axes>"
      ]
     },
     "metadata": {
      "needs_background": "light"
     },
     "output_type": "display_data"
    }
   ],
   "source": [
    "def longueur (x,y, ordre):\n",
    "   \n",
    "    d = 0\n",
    "    for i in range(1,len(ordre)):\n",
    "        n = ordre[i-1]\n",
    "        o = ordre[i]\n",
    "        x0,y0 = x[n], y[n]\n",
    "        x1,y1 = x[o], y[o]\n",
    "        d += (x0-x1)**2 + (y0-y1)**2\n",
    "    return d\n",
    "\n",
    "ordre = list(range(len(x)))\n",
    "print(\"longueur initiale\", longueur(x,y,ordre))\n",
    "\n",
    "ordre = permutation (x,y,list(range(len(x))))\n",
    "print(\"longueur min\", longueur(x,y,ordre))\n",
    "xo = [ x[o] for o in ordre]\n",
    "yo = [ y[o] for o in ordre]\n",
    "plt.plot(xo,yo, \"o-\")\n",
    "#C'est toujours bien le chemin le plus court"
   ]
  },
  {
   "cell_type": "code",
   "execution_count": 41,
   "metadata": {},
   "outputs": [
    {
     "name": "stdout",
     "output_type": "stream",
     "text": [
      "longueur initiale 0.7183439511965861\n",
      "iteration 0 d= 7.880100561055275\n",
      "iteration 1 d= 0.9226625271934571\n",
      "iteration 2 d= 0.7766381526221807\n",
      "iteration 3 d= 0.7568074984924049\n",
      "iteration 4 d= 0.7568074984924049\n",
      "iteration 5 d= 0.7568074984924049\n",
      "iteration 6 d= 0.7568074984924049\n",
      "iteration 7 d= 0.7568074984924049\n",
      "iteration 8 d= 0.7568074984924049\n",
      "iteration 9 d= 0.7568074984924049\n",
      "iteration 10 d= 0.7568074984924049\n",
      "iteration 11 d= 0.7568074984924049\n",
      "iteration 12 d= 0.7568074984924049\n",
      "iteration 13 d= 0.7568074984924049\n",
      "iteration 14 d= 0.7179270255039687\n",
      "iteration 15 d= 0.702255814199086\n",
      "iteration 16 d= 0.702255814199086\n",
      "iteration 17 d= 0.702255814199086\n",
      "iteration 18 d= 0.702255814199086\n",
      "iteration 19 d= 0.702255814199086\n",
      "longueur min 0.702255814199086\n"
     ]
    },
    {
     "data": {
      "text/plain": [
       "Text(0.6684721187120954, 0.652191178159829, 'N-1')"
      ]
     },
     "execution_count": 41,
     "metadata": {},
     "output_type": "execute_result"
    },
    {
     "data": {
      "image/png": "[encoded data removed]",
      "text/plain": [
       "<Figure size 432x288 with 1 Axes>"
      ]
     },
     "metadata": {
      "needs_background": "light"
     },
     "output_type": "display_data"
    }
   ],
   "source": [
    "print(\"longueur initiale\", longueur(x,y,ordre))\n",
    "\n",
    "def permutation_rnd(x,y,ordre,miniter):\n",
    "    d  = longueur(x,y,ordre)\n",
    "    d0 = d+1\n",
    "    it = 1\n",
    "    while d < d0 or it < miniter :\n",
    "        it += 1\n",
    "        d0 = d\n",
    "        for i in range(1,len(ordre)-1) :\n",
    "            for j in range(i+2,len(ordre)+ 1):\n",
    "                k = random.randint(1,len(ordre)-1)\n",
    "                l = random.randint(k+1,len(ordre))\n",
    "                r = ordre[k:l].copy()\n",
    "                r.reverse()\n",
    "                ordre2 = ordre[:k] + r + ordre[l:]\n",
    "                t = longueur(x,y,ordre2)\n",
    "                if t < d :\n",
    "                    d = t\n",
    "                    ordre = ordre2\n",
    "    return ordre\n",
    "\n",
    "def n_permutation(x,y, miniter):\n",
    "    ordre = list(range(len(x)))\n",
    "    bordre = ordre.copy()\n",
    "    d0 = longueur(x,y,ordre)\n",
    "    for i in range(0,20):\n",
    "        print(\"iteration\",i, \"d=\",d0)\n",
    "        random.shuffle(ordre)\n",
    "        ordre = permutation_rnd (x,y,ordre, 20)\n",
    "        d = longueur(x,y,ordre)\n",
    "        if d < d0 :\n",
    "            d0 = d\n",
    "            bordre = ordre.copy()\n",
    "    return bordre\n",
    "\n",
    "ordre = n_permutation (x,y, 20)\n",
    "print(\"longueur min\", longueur(x,y,ordre))\n",
    "xo = [ x[o] for o in ordre + [ordre[0]]]\n",
    "yo = [ y[o] for o in ordre + [ordre[0]]]\n",
    "plt.plot(xo,yo, \"o-\")\n",
    "plt.text(xo[0],yo[0],\"0\",color=\"r\",weight=\"bold\",size=\"x-large\")\n",
    "plt.text(xo[-2],yo[-2],\"N-1\",color=\"r\",weight=\"bold\",size=\"x-large\")"
   ]
  },
  {
   "cell_type": "code",
   "execution_count": null,
   "metadata": {},
   "outputs": [],
   "source": []
  }
 ],
 "metadata": {
  "kernelspec": {
   "display_name": "Python 3",
   "language": "python",
   "name": "python3"
  },
  "language_info": {
   "codemirror_mode": {
    "name": "ipython",
    "version": 3
   },
   "file_extension": ".py",
   "mimetype": "text/x-python",
   "name": "python",
   "nbconvert_exporter": "python",
   "pygments_lexer": "ipython3",
   "version": "3.7.6"
  }
 },
 "nbformat": 4,
 "nbformat_minor": 4
}
